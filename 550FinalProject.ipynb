{
 "cells": [
  {
   "cell_type": "markdown",
   "metadata": {},
   "source": [
    "# SENG 550 Final Project \n",
    "\n",
    "Luka Petrovic UCID: <br>\n",
    "Logan Boras UCID: <br> \n",
    "Kenny Jeon UCID: 30068677"
   ]
  },
  {
   "cell_type": "markdown",
   "metadata": {},
   "source": [
    "#### 1. Create directory for input data to live ####\n",
    "\n",
    "Note that the deerfoot.csv file or whatever input data you are using must be within the data folder then proceed to store it on the hdfs"
   ]
  },
  {
   "cell_type": "code",
   "execution_count": null,
   "metadata": {
    "vscode": {
     "languageId": "plaintext"
    }
   },
   "outputs": [],
   "source": [
    "!mkdir data\n",
    "!hadoop fs -mkdir -p /inputs\n",
    "!hadoop fs -put data /inputs"
   ]
  },
  {
   "cell_type": "markdown",
   "metadata": {},
   "source": [
    "#### 2. Grab the specific data we want from the data set ####"
   ]
  },
  {
   "cell_type": "code",
   "execution_count": null,
   "metadata": {
    "vscode": {
     "languageId": "plaintext"
    }
   },
   "outputs": [],
   "source": [
    "file = '/tutInput/data/deerfoot.csv'\n",
    "\n",
    "deerfootRDD = (sc.textFile(file, 8))\n",
    "'\\n'.join(deerfootRDD.zipWithIndex().map(lambda x: str(x[1]) + ': ' + str(x[0]))"
   ]
  },
  {
   "cell_type": "markdown",
   "metadata": {},
   "source": [
    "#### 2a. Now we want to get the data only for morning and afternoon rush hour, 8am and 4pm will suffice ####"
   ]
  },
  {
   "cell_type": "code",
   "execution_count": null,
   "metadata": {
    "vscode": {
     "languageId": "plaintext"
    }
   },
   "outputs": [],
   "source": [
    "def getRushHours(RDD):\n",
    "\n",
    "    rushHours = RDD.split(',')\n",
    "    return (rushHours[1],rushHours[6],rushHours[13])"
   ]
  },
  {
   "cell_type": "code",
   "execution_count": null,
   "metadata": {
    "vscode": {
     "languageId": "plaintext"
    }
   },
   "outputs": [],
   "source": [
    "RushHoursRDD = deerfootRDD.map(getRushHours)"
   ]
  }
 ],
 "metadata": {
  "language_info": {
   "name": "python"
  }
 },
 "nbformat": 4,
 "nbformat_minor": 2
}
